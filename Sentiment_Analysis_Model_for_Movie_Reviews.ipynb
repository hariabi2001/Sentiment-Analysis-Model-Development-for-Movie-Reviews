{
  "nbformat": 4,
  "nbformat_minor": 0,
  "metadata": {
    "colab": {
      "provenance": []
    },
    "kernelspec": {
      "name": "python3",
      "display_name": "Python 3"
    },
    "language_info": {
      "name": "python"
    }
  },
  "cells": [
    {
      "cell_type": "code",
      "source": [
        "import nltk\n",
        "from nltk.corpus import movie_reviews\n",
        "from nltk.tokenize import word_tokenize\n",
        "from nltk.stem import WordNetLemmatizer\n",
        "from sklearn.feature_extraction.text import TfidfVectorizer\n",
        "from sklearn.naive_bayes import MultinomialNB\n",
        "from sklearn.model_selection import train_test_split\n",
        "\n",
        "# Download the \"punkt\" and \"wordnet\" resources\n",
        "nltk.download('punkt')\n",
        "nltk.download('wordnet')\n",
        "\n",
        "# Load the movie reviews dataset from NLTK\n",
        "nltk.download('movie_reviews')\n",
        "\n",
        "positive_reviews = [(movie_reviews.words(fileid), 'pos') for fileid in movie_reviews.fileids('pos')]\n",
        "negative_reviews = [(movie_reviews.words(fileid), 'neg') for fileid in movie_reviews.fileids('neg')]\n",
        "all_reviews = positive_reviews + negative_reviews\n",
        "\n",
        "# Preprocess the data\n",
        "lemmatizer = WordNetLemmatizer()\n",
        "X = [' '.join([lemmatizer.lemmatize(word) for word in word_tokenize(' '.join(review))]) for (review, label) in all_reviews]\n",
        "y = [label for (review, label) in all_reviews]\n",
        "\n",
        "# Split the data into training and testing sets\n",
        "X_train, X_test, y_train, y_test = train_test_split(X, y, test_size=0.2, random_state=42)\n",
        "\n",
        "# Vectorize the text using TF-IDF\n",
        "vectorizer = TfidfVectorizer()\n",
        "X_train_vec = vectorizer.fit_transform(X_train)\n",
        "X_test_vec = vectorizer.transform(X_test)\n",
        "\n",
        "# Train a Naive Bayes classifier\n",
        "classifier = MultinomialNB()\n",
        "classifier.fit(X_train_vec, y_train)\n",
        "\n",
        "# Make predictions on the test set\n",
        "y_pred = classifier.predict(X_test_vec)\n",
        "print(y_pred)"
      ],
      "metadata": {
        "colab": {
          "base_uri": "https://localhost:8080/"
        },
        "id": "pUx6lAgrGigb",
        "outputId": "a91d487d-7d0f-4e8b-ab68-b3e4f1fc406f"
      },
      "execution_count": 4,
      "outputs": [
        {
          "output_type": "stream",
          "name": "stderr",
          "text": [
            "[nltk_data] Downloading package punkt to /root/nltk_data...\n",
            "[nltk_data]   Package punkt is already up-to-date!\n",
            "[nltk_data] Downloading package wordnet to /root/nltk_data...\n",
            "[nltk_data]   Package wordnet is already up-to-date!\n",
            "[nltk_data] Downloading package movie_reviews to /root/nltk_data...\n",
            "[nltk_data]   Package movie_reviews is already up-to-date!\n"
          ]
        },
        {
          "output_type": "stream",
          "name": "stdout",
          "text": [
            "['neg' 'pos' 'pos' 'pos' 'neg' 'pos' 'pos' 'pos' 'pos' 'neg' 'pos' 'neg'\n",
            " 'neg' 'pos' 'neg' 'pos' 'neg' 'pos' 'pos' 'neg' 'pos' 'neg' 'neg' 'neg'\n",
            " 'neg' 'pos' 'neg' 'neg' 'neg' 'pos' 'pos' 'pos' 'pos' 'pos' 'neg' 'pos'\n",
            " 'neg' 'neg' 'neg' 'neg' 'pos' 'neg' 'pos' 'pos' 'pos' 'pos' 'neg' 'neg'\n",
            " 'pos' 'neg' 'neg' 'pos' 'neg' 'pos' 'neg' 'neg' 'neg' 'neg' 'neg' 'pos'\n",
            " 'neg' 'pos' 'neg' 'neg' 'neg' 'pos' 'neg' 'neg' 'pos' 'pos' 'neg' 'neg'\n",
            " 'neg' 'neg' 'pos' 'pos' 'neg' 'pos' 'pos' 'neg' 'pos' 'pos' 'neg' 'neg'\n",
            " 'neg' 'neg' 'pos' 'pos' 'pos' 'neg' 'neg' 'neg' 'pos' 'pos' 'neg' 'neg'\n",
            " 'neg' 'pos' 'neg' 'pos' 'pos' 'pos' 'pos' 'neg' 'pos' 'neg' 'pos' 'pos'\n",
            " 'neg' 'pos' 'pos' 'neg' 'pos' 'neg' 'pos' 'pos' 'neg' 'pos' 'pos' 'pos'\n",
            " 'neg' 'neg' 'neg' 'pos' 'pos' 'neg' 'neg' 'neg' 'pos' 'pos' 'neg' 'neg'\n",
            " 'neg' 'pos' 'pos' 'pos' 'pos' 'neg' 'neg' 'neg' 'neg' 'pos' 'neg' 'pos'\n",
            " 'neg' 'pos' 'pos' 'neg' 'pos' 'pos' 'pos' 'pos' 'pos' 'pos' 'neg' 'pos'\n",
            " 'pos' 'neg' 'pos' 'neg' 'pos' 'pos' 'pos' 'neg' 'neg' 'neg' 'neg' 'neg'\n",
            " 'pos' 'neg' 'pos' 'neg' 'neg' 'pos' 'pos' 'pos' 'pos' 'neg' 'pos' 'neg'\n",
            " 'pos' 'pos' 'neg' 'pos' 'pos' 'neg' 'neg' 'neg' 'neg' 'neg' 'pos' 'pos'\n",
            " 'neg' 'pos' 'neg' 'pos' 'neg' 'pos' 'neg' 'neg' 'neg' 'pos' 'neg' 'neg'\n",
            " 'pos' 'pos' 'pos' 'neg' 'neg' 'pos' 'neg' 'pos' 'pos' 'neg' 'pos' 'neg'\n",
            " 'neg' 'neg' 'pos' 'neg' 'pos' 'neg' 'pos' 'neg' 'neg' 'neg' 'pos' 'pos'\n",
            " 'neg' 'pos' 'neg' 'pos' 'neg' 'pos' 'neg' 'pos' 'neg' 'pos' 'neg' 'pos'\n",
            " 'neg' 'neg' 'neg' 'pos' 'neg' 'pos' 'pos' 'neg' 'pos' 'neg' 'neg' 'pos'\n",
            " 'neg' 'pos' 'neg' 'pos' 'neg' 'pos' 'neg' 'neg' 'pos' 'neg' 'pos' 'neg'\n",
            " 'neg' 'neg' 'pos' 'pos' 'pos' 'neg' 'neg' 'neg' 'neg' 'neg' 'neg' 'neg'\n",
            " 'neg' 'neg' 'neg' 'pos' 'neg' 'neg' 'pos' 'pos' 'pos' 'pos' 'pos' 'neg'\n",
            " 'neg' 'neg' 'neg' 'neg' 'neg' 'pos' 'pos' 'pos' 'pos' 'neg' 'neg' 'neg'\n",
            " 'pos' 'pos' 'neg' 'neg' 'pos' 'neg' 'neg' 'neg' 'neg' 'pos' 'pos' 'neg'\n",
            " 'neg' 'pos' 'neg' 'neg' 'neg' 'neg' 'neg' 'neg' 'neg' 'pos' 'pos' 'pos'\n",
            " 'pos' 'neg' 'neg' 'neg' 'neg' 'pos' 'pos' 'pos' 'neg' 'pos' 'neg' 'neg'\n",
            " 'pos' 'neg' 'neg' 'neg' 'neg' 'pos' 'pos' 'pos' 'pos' 'pos' 'pos' 'neg'\n",
            " 'neg' 'neg' 'pos' 'pos' 'neg' 'neg' 'pos' 'neg' 'neg' 'neg' 'neg' 'neg'\n",
            " 'pos' 'pos' 'pos' 'neg' 'pos' 'pos' 'neg' 'neg' 'neg' 'neg' 'neg' 'neg'\n",
            " 'pos' 'neg' 'neg' 'pos' 'pos' 'neg' 'neg' 'neg' 'neg' 'pos' 'pos' 'neg'\n",
            " 'pos' 'pos' 'pos' 'neg' 'pos' 'neg' 'neg' 'neg' 'pos' 'pos' 'pos' 'pos'\n",
            " 'neg' 'neg' 'pos' 'pos']\n"
          ]
        }
      ]
    }
  ]
}